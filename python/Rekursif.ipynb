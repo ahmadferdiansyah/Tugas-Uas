{
 "cells": [
  {
   "cell_type": "code",
   "execution_count": 6,
   "metadata": {},
   "outputs": [
    {
     "name": "stdin",
     "output_type": "stream",
     "text": [
      "Celcius =  30\n"
     ]
    },
    {
     "name": "stdout",
     "output_type": "stream",
     "text": [
      "Reamur =  24.0\n",
      "Farenheit =  54.0\n",
      "Kelvin =  303.0\n"
     ]
    }
   ],
   "source": [
    "def reamur (x):\n",
    "    print(\"Reamur = \",4/5*x)\n",
    "def farenheit(x):\n",
    "    print(\"Farenheit = \",9/5*x)\n",
    "def kelvin(x):\n",
    "    print(\"Kelvin = \",273+x)\n",
    "C=float(input(\"Celcius = \"))\n",
    "reamur(C)\n",
    "farenheit(C)\n",
    "kelvin(C)"
   ]
  },
  {
   "cell_type": "code",
   "execution_count": null,
   "metadata": {},
   "outputs": [],
   "source": []
  }
 ],
 "metadata": {
  "kernelspec": {
   "display_name": "Python 3",
   "language": "python",
   "name": "python3"
  },
  "language_info": {
   "codemirror_mode": {
    "name": "ipython",
    "version": 3
   },
   "file_extension": ".py",
   "mimetype": "text/x-python",
   "name": "python",
   "nbconvert_exporter": "python",
   "pygments_lexer": "ipython3",
   "version": "3.7.3"
  }
 },
 "nbformat": 4,
 "nbformat_minor": 4
}
