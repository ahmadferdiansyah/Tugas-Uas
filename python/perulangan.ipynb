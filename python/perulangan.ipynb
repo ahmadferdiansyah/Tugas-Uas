{
 "cells": [
  {
   "cell_type": "code",
   "execution_count": 21,
   "metadata": {},
   "outputs": [
    {
     "name": "stdin",
     "output_type": "stream",
     "text": [
      "Berapa angaka =  10\n"
     ]
    },
    {
     "name": "stdout",
     "output_type": "stream",
     "text": [
      "1  = Ganjil\n",
      "2  = Genap\n",
      "3  = Ganjil\n",
      "4  = Genap\n",
      "5  = Ganjil\n",
      "6  = Genap\n",
      "7  = Ganjil\n",
      "8  = Genap\n",
      "9  = Ganjil\n",
      "10  = Genap\n"
     ]
    }
   ],
   "source": [
    "M = int(input(\"Berapa angaka = \"))\n",
    "for i in range(1,M,2):\n",
    "    print(i,\" = Ganjil\")\n",
    "    print(i+1,\" = Genap\")\n",
    "if M%2 !=0:\n",
    "    print(M,\" = Ganjil\")"
   ]
  },
  {
   "cell_type": "code",
   "execution_count": null,
   "metadata": {},
   "outputs": [],
   "source": []
  }
 ],
 "metadata": {
  "kernelspec": {
   "display_name": "Python 3",
   "language": "python",
   "name": "python3"
  },
  "language_info": {
   "codemirror_mode": {
    "name": "ipython",
    "version": 3
   },
   "file_extension": ".py",
   "mimetype": "text/x-python",
   "name": "python",
   "nbconvert_exporter": "python",
   "pygments_lexer": "ipython3",
   "version": "3.7.3"
  }
 },
 "nbformat": 4,
 "nbformat_minor": 4
}
